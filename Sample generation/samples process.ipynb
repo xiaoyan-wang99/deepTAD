{
 "cells": [
  {
   "cell_type": "markdown",
   "metadata": {},
   "source": [
    "####  Generation of a common boundary for any two instruments"
   ]
  },
  {
   "cell_type": "code",
   "execution_count": null,
   "metadata": {},
   "outputs": [],
   "source": [
    "import pandas as pd\n",
    "import numpy as np\n",
    "\n",
    "def process_file(file_path):\n",
    "    df = pd.read_csv(file_path,  header=None, delimiter='\\t')\n",
    "    df.iloc[1:, 0] = df.iloc[1:, 0] - 1\n",
    "    df_np = np.array(df).flatten()\n",
    "    df_np = np.unique(df_np)\n",
    "    return df_np\n",
    "\n",
    "if __name__ == \"__main__\":\n",
    "    callers = ['CaTCH', 'CHAC', 'deDoc', 'DI', 'TopDom','Arrowhead']\n",
    "    chrs = list(range(1, 23)) + ['X']\n",
    "    result_dict = {}\n",
    "    for chr in chrs:\n",
    "        for caller in callers:\n",
    "            file_path = f'/home/wangxiaoyan/deepTAD/work/all_TADs/bin/{caller}/HIC002_{caller}.chr{chr}'    \n",
    "            result_dict[caller] = process_file(file_path)\n",
    "        all_data = np.concatenate(list(result_dict.values()))\n",
    "        unique_data, counts = np.unique(all_data, return_counts=True)\n",
    "        result = unique_data[counts >= 2]\n",
    "        print(\"Data appearing more than twice in six documents:\")\n",
    "        print(result)\n",
    "        if len(result) == 0:\n",
    "            print(\"No data available to satisfy the conditions\")\n",
    "        else:\n",
    "            formatted_data = []\n",
    "            for i in range(0, len(result)):\n",
    "                formatted_data.append(f\"{result[i]} {result[i]+1}\")\n",
    "            converted_list = [[int(num) for num in string.split()] for string in formatted_data]\n",
    "            new_lines = []\n",
    "            skip_next = 0\n",
    "            for i in range(len(converted_list)):\n",
    "                if skip_next:  \n",
    "                    skip_next -= 1\n",
    "                    continue\n",
    "                if i + 2 < len(converted_list) and converted_list[i][1] == converted_list[i+1][0] and converted_list[i+1][1] == converted_list[i+2][0]:\n",
    "                    new_lines.append(converted_list[i+1])\n",
    "                    skip_next = 2\n",
    "                elif i + 1 < len(converted_list) and converted_list[i][1] == converted_list[i+1][0] :\n",
    "                    new_lines.append(converted_list[i+1])\n",
    "                    skip_next = 1\n",
    "                else:\n",
    "                    new_lines.append(converted_list[i])\n",
    "            print(new_lines)\n",
    "            result = '\\n'.join([' '.join(map(str, line)) for line in new_lines])\n",
    "            with open(f'/home/wangxiaoyan/deepTAD/work_public/boundary-generate/HIC002/chr{chr}.txt', 'w') as f:\n",
    "                f.write(result)"
   ]
  },
  {
   "cell_type": "markdown",
   "metadata": {},
   "source": [
    "### chr1-12 Generation of training samples for all positive and negative samples"
   ]
  },
  {
   "cell_type": "code",
   "execution_count": null,
   "metadata": {},
   "outputs": [],
   "source": [
    "import numpy as np\n",
    "\n",
    "def openreadtxt(file_name):\n",
    "    \n",
    "    with open(file_name, 'r') as file:\n",
    "        file_data = file.readlines()\n",
    "        data = [row.replace('\\n', '').split() for row in file_data]\n",
    "        return data\n",
    "\n",
    "if __name__ == '__main__':\n",
    "    chrs=list(range(1,13))\n",
    "    for chr in chrs:\n",
    "        all_data = []\n",
    "        #boundary_indices = []\n",
    "        lable_T = 1\n",
    "        lable_F = 0\n",
    "        row = openreadtxt('/home/wangxiaoyan/deepTAD/work_public/boundary-generate/HIC002/chr%s.txt'%(chr))\n",
    "        big_matrix = np.array(openreadtxt('/home/wangxiaoyan/deepTAD/prepare_data/HIC002/HIC002_25k_KR.chr%s'%(chr)))\n",
    "        print(big_matrix.shape)\n",
    "        padded_matrix = np.pad(big_matrix, ((4, 5), (4, 5)), 'constant')\n",
    "        print(padded_matrix.shape)\n",
    "        ww = 0\n",
    "        for m in range(5, 5 + len(big_matrix)):\n",
    "            if ww < len(row):\n",
    "                num_key = int(row[ww][0]) - 1\n",
    "            if m == num_key + 5:\n",
    "                label = lable_T\n",
    "                ww += 1\n",
    "            else:\n",
    "                label = lable_F\n",
    "            midx = m\n",
    "            bdy = m - 4\n",
    "            matrix = padded_matrix[midx - 5:midx + 5, midx - 5:midx + 5]\n",
    "            all_data.append(np.append(matrix.flatten(), label))\n",
    "\n",
    "        all_data = np.array(all_data)\n",
    "        all_data = all_data.astype('float32')\n",
    "        print(all_data.shape)\n",
    "\n",
    "        np.save('/home/wangxiaoyan/deepTAD/work_public/samples-generate/train/HIC002_chr%s-matrix.npy'%(chr),all_data) \n"
   ]
  },
  {
   "cell_type": "markdown",
   "metadata": {},
   "source": [
    "## Chr1-12 produce 1:4 positive and negative samples"
   ]
  },
  {
   "cell_type": "code",
   "execution_count": null,
   "metadata": {
    "ExecuteTime": {
     "end_time": "2023-09-05T08:50:17.168718Z",
     "start_time": "2023-09-05T08:50:15.450562Z"
    }
   },
   "outputs": [],
   "source": [
    "import numpy as np\n",
    "\n",
    "chrs = list(range(1, 13))\n",
    "train_samples = []\n",
    "\n",
    "def rotate_matrix(matrix):\n",
    "    return np.rot90(matrix, k=-1) \n",
    "\n",
    "for chr in chrs:\n",
    "    train_data = np.load('/home/wangxiaoyan/deepTAD/work_public/samples-generate/train/HIC002_chr%s-matrix.npy' % chr)\n",
    "    pos_num = np.sum(train_data[:, -1] == 1)\n",
    "    pos_samples = train_data[train_data[:, -1] == 1]\n",
    "\n",
    "    rotated_matrices = []\n",
    "    for sample in pos_samples:\n",
    "        matrix = sample[:-1].reshape((10, 10))\n",
    "        rotated_matrix = rotate_matrix(matrix)\n",
    "        rotated_matrices.append(rotated_matrix)\n",
    "    rotated_data = np.vstack((pos_samples, np.hstack((np.array(rotated_matrices).reshape((-1, 100)), np.ones((len(rotated_matrices), 1))))))\n",
    "\n",
    "    neg_samples = train_data[train_data[:, -1] == 0]\n",
    "    random_indices = np.random.choice(len(neg_samples), size=pos_num * 4, replace=False)\n",
    "    relneg_samples = neg_samples[random_indices]\n",
    "    train_samples.append(np.concatenate((rotated_data, relneg_samples), axis=0))\n",
    "\n",
    "train_samples = np.concatenate(train_samples, axis=0)\n",
    "np.save('/home/wangxiaoyan/deepTAD/work_public/samples-generate/data enhancement/HIC002_train_data-1bi2.npy', train_samples)"
   ]
  },
  {
   "cell_type": "markdown",
   "metadata": {},
   "source": [
    "## chr13-19 Generation of all positive and negative samples Validation set"
   ]
  },
  {
   "cell_type": "code",
   "execution_count": null,
   "metadata": {},
   "outputs": [],
   "source": [
    "import numpy as np\n",
    "\n",
    "def openreadtxt(file_name):\n",
    "    \n",
    "    with open(file_name, 'r') as file:\n",
    "        file_data = file.readlines()\n",
    "        data = [row.replace('\\n', '').split() for row in file_data]\n",
    "        return data\n",
    "\n",
    "if __name__ == '__main__':\n",
    "    chrs=list(range(13,20))\n",
    "    for chr in chrs:\n",
    "        all_data = []\n",
    "        #boundary_indices = []\n",
    "        lable_T = 1\n",
    "        lable_F = 0\n",
    "        row = openreadtxt('/home/wangxiaoyan/deepTAD/work_public3/boundary-generate/HIC002/chr%s.txt'%(chr))\n",
    "        big_matrix = np.array(openreadtxt('/home/wangxiaoyan/deepTAD/prepare_data/HIC002/HIC002_25k_KR.chr%s'%(chr)))\n",
    "        print(big_matrix.shape)\n",
    "        padded_matrix = np.pad(big_matrix, ((4, 5), (4, 5)), 'constant')\n",
    "        print(padded_matrix.shape)\n",
    "        ww = 0\n",
    "        for m in range(5, 5 + len(big_matrix)):\n",
    "            if ww < len(row):\n",
    "                num_key = int(row[ww][0]) - 1\n",
    "            if m == num_key + 5:\n",
    "                label = lable_T\n",
    "                ww += 1\n",
    "            else:\n",
    "                label = lable_F\n",
    "            midx = m\n",
    "            bdy = m - 4\n",
    "            matrix = padded_matrix[midx - 5:midx + 5, midx - 5:midx + 5]\n",
    "            all_data.append(np.append(matrix.flatten(), label))\n",
    "        all_data = np.array(all_data)\n",
    "        all_data = all_data.astype('float32')\n",
    "        print(all_data.shape)\n",
    "\n",
    "        np.save('/home/wangxiaoyan/deepTAD/work_public/samples-generate/validation/HIC002_chr%s-matrix.npy'%(chr),all_data) "
   ]
  },
  {
   "cell_type": "markdown",
   "metadata": {},
   "source": [
    "## Chr13-19 produce 1:4 positive and negative samples"
   ]
  },
  {
   "cell_type": "code",
   "execution_count": null,
   "metadata": {
    "ExecuteTime": {
     "end_time": "2023-09-05T08:51:24.964919Z",
     "start_time": "2023-09-05T08:51:24.535071Z"
    }
   },
   "outputs": [],
   "source": [
    "import numpy as np\n",
    "\n",
    "chrs = list(range(13, 20))\n",
    "train_samples = []\n",
    "\n",
    "def rotate_matrix(matrix):\n",
    "    return np.rot90(matrix, k=-1)  \n",
    "\n",
    "for chr in chrs:\n",
    "    train_data = np.load('/home/wangxiaoyan/deepTAD/work_public/samples-generate/validation/HIC002_chr%s-matrix.npy' % chr)\n",
    "    pos_num = np.sum(train_data[:, -1] == 1)\n",
    "    pos_samples = train_data[train_data[:, -1] == 1]\n",
    "    rotated_matrices = []\n",
    "    for sample in pos_samples:\n",
    "        matrix = sample[:-1].reshape((10, 10))\n",
    "        rotated_matrix = rotate_matrix(matrix)\n",
    "        rotated_matrices.append(rotated_matrix)\n",
    "\n",
    "    rotated_data = np.vstack((pos_samples, np.hstack((np.array(rotated_matrices).reshape((-1, 100)), np.ones((len(rotated_matrices), 1))))))\n",
    "    neg_samples = train_data[train_data[:, -1] == 0]\n",
    "    random_indices = np.random.choice(len(neg_samples), size=pos_num * 4,replace=False)\n",
    "    relneg_samples = neg_samples[random_indices]\n",
    "    train_samples.append(np.concatenate((rotated_data, relneg_samples), axis=0))\n",
    "   \n",
    "  \n",
    "train_samples = np.concatenate(train_samples, axis=0)\n",
    "\n",
    "np.save('/home/wangxiaoyan/deepTAD/work_public/samples-generate/data enhancement/HIC002_validation_data-1bi2.npy', train_samples)"
   ]
  },
  {
   "cell_type": "markdown",
   "metadata": {},
   "source": [
    "### chr20-23 generation of prediction data"
   ]
  },
  {
   "cell_type": "code",
   "execution_count": null,
   "metadata": {},
   "outputs": [],
   "source": [
    "import numpy as np\n",
    "\n",
    "def openreadtxt(file_name):\n",
    "    \n",
    "    with open(file_name, 'r') as file:\n",
    "        file_data = file.readlines()\n",
    "        data = [row.replace('\\n', '').split() for row in file_data]\n",
    "        return data\n",
    "\n",
    "if __name__ == '__main__':\n",
    "    chrs=list(range(20,23))\n",
    "    chrs = [str(x) for x in chrs]\n",
    "    chrs.append('X')\n",
    "    for chr in chrs:\n",
    "        all_data = []\n",
    "        #boundary_indices = []\n",
    "        lable_T = 1\n",
    "        lable_F = 0\n",
    "        row = openreadtxt('/home/wangxiaoyan/deepTAD/work_public/boundary-generate/HIC002/chr%s.txt'%(chr))\n",
    "        big_matrix = np.array(openreadtxt('/home/wangxiaoyan/deepTAD/prepare_data/HIC002/HIC002_25k_KR.chr%s'%(chr)))\n",
    "        print(big_matrix.shape)\n",
    "        padded_matrix = np.pad(big_matrix, ((4, 5), (4, 5)), 'constant')\n",
    "        print(padded_matrix.shape)\n",
    "        ww = 0\n",
    "        for m in range(5, 5 + len(big_matrix)):\n",
    "            if ww < len(row):\n",
    "                num_key = int(row[ww][0]) - 1\n",
    "            if m == num_key + 5:\n",
    "                label = lable_T\n",
    "                ww += 1\n",
    "            else:\n",
    "                label = lable_F\n",
    "            midx = m\n",
    "            bdy = m - 4\n",
    "            matrix = padded_matrix[midx - 5:midx + 5, midx - 5:midx + 5]\n",
    "            all_data.append(np.append(matrix.flatten(), label))\n",
    "        all_data = np.array(all_data)\n",
    "        all_data = all_data.astype('float32')\n",
    "        print(all_data.shape)\n",
    "\n",
    "        np.save('/home/wangxiaoyan/deepTAD/work_public/samples-generate/predict/HIC002_chr%s-matrix.npy'%(chr),all_data) \n"
   ]
  },
  {
   "cell_type": "markdown",
   "metadata": {},
   "source": [
    "### Prediction of all samples generated at different resolutions, unlabeled"
   ]
  },
  {
   "cell_type": "markdown",
   "metadata": {},
   "source": [
    "### *This code can also be used to generate predicted samples of other cell lines"
   ]
  },
  {
   "cell_type": "code",
   "execution_count": null,
   "metadata": {},
   "outputs": [],
   "source": [
    "import numpy as np\n",
    "np.set_printoptions(threshold=np.inf)  \n",
    "def openreadtxt(file_name):\n",
    "    \n",
    "    with open(file_name, 'r') as file:\n",
    "        file_data = file.readlines()\n",
    "        data = [row.replace('\\n', '').split() for row in file_data]\n",
    "        return data\n",
    "\n",
    "if __name__ == '__main__':\n",
    "    chrs=list(range(20,23))\n",
    "    chrs = [str(x) for x in chrs]\n",
    "    chrs.append('X')\n",
    "    resolutions=[10000,25000,50000,100000]\n",
    "    for chr in chrs:\n",
    "        for resolution in resolutions:\n",
    "            display_reso=resolution/1000\n",
    "            all_data = []\n",
    "            big_matrix = openreadtxt(\"/home/wangxiaoyan/deepTAD/prepare_data/HIC002/HIC002_%dk_KR.chr%s\"%(display_reso,chr))\n",
    "            big_matrix = np.array(big_matrix) \n",
    "            print(big_matrix.shape)\n",
    "            top = len(big_matrix)\n",
    "            padded_matrix = np.pad(big_matrix, ((4, 5), (4, 5)), 'constant')\n",
    "            for i in range(5,5+len(big_matrix)):\n",
    "                    num_key=i-4\n",
    "                    midx=i\n",
    "                    matrix=np.zeros((10,10))\n",
    "                    matrix=padded_matrix[midx-5:midx+5,midx-5:midx+5]\n",
    "                    matrix1 = np.array(matrix)\n",
    "                    matrix1 = np.reshape(matrix1,(1,-1))\n",
    "                    all_data.append(matrix1)\n",
    "            all_data = np.concatenate(all_data,axis=0)\n",
    "            Matrix = np.array(all_data)\n",
    "            print(Matrix.shape)\n",
    "            np.save('/home/wangxiaoyan/deepTAD/work_public/samples-generate/predict_diffres-withoutlabel/HIC002_chr%s-matrix_%dk.npy'%(chr,display_reso),Matrix) \n"
   ]
  },
  {
   "cell_type": "code",
   "execution_count": null,
   "metadata": {},
   "outputs": [],
   "source": []
  }
 ],
 "metadata": {
  "kernelspec": {
   "display_name": "Python 3 (ipykernel)",
   "language": "python",
   "name": "python3"
  },
  "language_info": {
   "codemirror_mode": {
    "name": "ipython",
    "version": 3
   },
   "file_extension": ".py",
   "mimetype": "text/x-python",
   "name": "python",
   "nbconvert_exporter": "python",
   "pygments_lexer": "ipython3",
   "version": "3.9.13"
  }
 },
 "nbformat": 4,
 "nbformat_minor": 2
}
